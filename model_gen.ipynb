{
 "cells": [
  {
   "cell_type": "code",
   "execution_count": 15,
   "metadata": {
    "collapsed": true
   },
   "outputs": [
    {
     "name": "stdout",
     "output_type": "stream",
     "text": [
      "device: cpu\n"
     ]
    }
   ],
   "source": [
    "import torch.cuda\n",
    "\n",
    "from src import  N_CLASSES, FEATURE_DIM\n",
    "\n",
    "BATCH_SIZE = 100\n",
    "device = \"cuda\" if torch.cuda.is_available() else \"cpu\"\n",
    "print(f'device: {device}')"
   ]
  },
  {
   "cell_type": "code",
   "execution_count": 16,
   "metadata": {
    "collapsed": false
   },
   "outputs": [],
   "source": [
    "# 读数据\n",
    "data = torch.load(\"data.pth\")\n",
    "feature = data['feature']\n",
    "label = data['label']"
   ]
  },
  {
   "cell_type": "code",
   "execution_count": 17,
   "metadata": {
    "collapsed": false
   },
   "outputs": [],
   "source": [
    "# 生成训练集、测试集\n",
    "from sklearn.model_selection import train_test_split\n",
    "\n",
    "# x_train, x_test, y_train, y_test = train_test_split(feature, label, test_size=0.15, train_size=0.85, random_state=0)\n",
    "# x_train, x_test, y_train, y_test = x_train.to(device), x_test.to(device), y_train.to(device), y_test.to(device)\n",
    "x_train = feature.to(device)\n",
    "y_train = label.to(device)"
   ]
  },
  {
   "cell_type": "code",
   "execution_count": 18,
   "metadata": {
    "collapsed": false
   },
   "outputs": [],
   "source": [
    "# 加载数据\n",
    "from torch.utils.data import DataLoader, TensorDataset\n",
    "\n",
    "train_dataset = TensorDataset(x_train, y_train)\n",
    "train_loader = DataLoader(train_dataset, batch_size=BATCH_SIZE, shuffle=True)\n",
    "\n",
    "# test_dataset = TensorDataset(x_test, y_test)\n",
    "# test_loader = DataLoader(test_dataset, batch_size=BATCH_SIZE, shuffle=True)"
   ]
  },
  {
   "cell_type": "code",
   "execution_count": 19,
   "metadata": {
    "collapsed": false
   },
   "outputs": [],
   "source": [
    "# 定义网络\n",
    "from model import Net\n",
    "import torch.nn as nn\n",
    "\n",
    "net = Net().to(device)\n",
    "\n",
    "# 定义损失函数、优化器\n",
    "import torch.optim as optim\n",
    "\n",
    "criterion = nn.CrossEntropyLoss()\n",
    "optimizer = optim.Adam(net.parameters(),\n",
    "                       lr=0.001,\n",
    "                       betas=(0.9, 0.999),\n",
    "                       eps=1e-08,\n",
    "                       weight_decay=0,\n",
    "                       amsgrad=False)"
   ]
  },
  {
   "cell_type": "code",
   "execution_count": 20,
   "metadata": {
    "collapsed": false
   },
   "outputs": [
    {
     "name": "stdout",
     "output_type": "stream",
     "text": [
      "epoch 0 loss: 0.1156727313\n",
      "epoch 10 loss: 0.0107814490\n",
      "epoch 20 loss: 0.0061456303\n",
      "epoch 30 loss: 0.0039568360\n",
      "epoch 40 loss: 0.0034324323\n",
      "epoch 50 loss: 0.0028770236\n",
      "epoch 60 loss: 0.0022990988\n",
      "epoch 70 loss: 0.0016972108\n",
      "epoch 80 loss: 0.0016545222\n",
      "epoch 90 loss: 0.0018570556\n",
      "epoch 100 loss: 0.0014894591\n",
      "epoch 110 loss: 0.0016068309\n",
      "epoch 120 loss: 0.0011419157\n",
      "epoch 130 loss: 0.0007955134\n",
      "epoch 140 loss: 0.0012772046\n",
      "epoch 150 loss: 0.0008910878\n",
      "epoch 160 loss: 0.0008567379\n",
      "epoch 170 loss: 0.0007111794\n",
      "epoch 180 loss: 0.0006965153\n",
      "epoch 190 loss: 0.0007300272\n",
      "Finished Training\n"
     ]
    }
   ],
   "source": [
    "# 训练网络\n",
    "for epoch in range(200):  # 数字越大，循环次数越多\n",
    "    running_loss = 0.0\n",
    "    for i, data in enumerate(train_loader, 0):\n",
    "        # get the inputs; data is a list of [inputs, labels]\n",
    "        inputs, labels = data\n",
    "\n",
    "        # zero the parameter gradients\n",
    "        optimizer.zero_grad()\n",
    "\n",
    "        # forward + backward + optimize\n",
    "        outputs = net(inputs)\n",
    "        loss = criterion(outputs, labels)\n",
    "        loss.backward()\n",
    "        optimizer.step()\n",
    "\n",
    "        # print statistics\n",
    "        running_loss += loss.item()\n",
    "\n",
    "    if epoch % 10 == 0:\n",
    "        print(f'epoch {epoch} loss: {running_loss / 1500:.10f}')\n",
    "        running_loss = 0.0\n",
    "\n",
    "print('Finished Training')\n",
    "\n",
    "# 训练结束后保存网络参数\n",
    "PATH = './model.pth'\n",
    "torch.save(net.state_dict(), PATH)"
   ]
  },
  {
   "cell_type": "code",
   "execution_count": 14,
   "metadata": {
    "collapsed": false
   },
   "outputs": [
    {
     "name": "stdout",
     "output_type": "stream",
     "text": [
      "Accuracy: 0.9781111111111112\n"
     ]
    }
   ],
   "source": [
    "# 测试模型\n",
    "net = Net().to(device)\n",
    "net.load_state_dict(torch.load(PATH))\n",
    "\n",
    "correct = 0\n",
    "total = 0\n",
    "# since we're not training, we don't need to calculate the gradients for our outputs\n",
    "with torch.no_grad():\n",
    "    # noinspection PyShadowingBuiltins\n",
    "    for input, labels in test_loader:\n",
    "        # calculate outputs by running images through the network\n",
    "        outputs = net(input)\n",
    "        # the class with the highest energy is what we choose as prediction\n",
    "        _, predicted = torch.max(outputs.data, 1)\n",
    "        total += labels.size(0)\n",
    "        # noinspection PyUnresolvedReferences\n",
    "        correct += (predicted == labels).sum().item()\n",
    "\n",
    "print(f'Accuracy: {correct / total}')"
   ]
  }
 ],
 "metadata": {
  "kernelspec": {
   "display_name": "baseclone",
   "language": "python",
   "name": "python3"
  },
  "language_info": {
   "codemirror_mode": {
    "name": "ipython",
    "version": 3
   },
   "file_extension": ".py",
   "mimetype": "text/x-python",
   "name": "python",
   "nbconvert_exporter": "python",
   "pygments_lexer": "ipython3",
   "version": "3.9.15"
  },
  "vscode": {
   "interpreter": {
    "hash": "b4494550fd2c455d12025b7cfce3597d9eb74249dc2acea6a9c1fae47f4abe40"
   }
  }
 },
 "nbformat": 4,
 "nbformat_minor": 0
}
