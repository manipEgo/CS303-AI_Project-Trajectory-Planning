{
 "cells": [
  {
   "cell_type": "code",
   "execution_count": 1,
   "metadata": {
    "collapsed": true
   },
   "outputs": [
    {
     "name": "stdout",
     "output_type": "stream",
     "text": [
      "device: cpu\n"
     ]
    }
   ],
   "source": [
    "import torch.cuda\n",
    "\n",
    "from src import  N_CLASSES, FEATURE_DIM\n",
    "\n",
    "BATCH_SIZE = 32\n",
    "device = \"cuda\" if torch.cuda.is_available() else \"cpu\"\n",
    "print(f'device: {device}')"
   ]
  },
  {
   "cell_type": "code",
   "execution_count": 2,
   "metadata": {
    "collapsed": false
   },
   "outputs": [],
   "source": [
    "# 读数据\n",
    "data = torch.load(\"data.pth\")\n",
    "feature = data['feature']\n",
    "label = data['label']"
   ]
  },
  {
   "cell_type": "code",
   "execution_count": 3,
   "metadata": {
    "collapsed": false
   },
   "outputs": [],
   "source": [
    "# 生成训练集、测试集\n",
    "from sklearn.model_selection import train_test_split\n",
    "\n",
    "x_train, x_test, y_train, y_test = train_test_split(feature, label, test_size=0.2, train_size=0.8, random_state=0)\n",
    "x_train, x_test, y_train, y_test = x_train.to(device), x_test.to(device), y_train.to(device), y_test.to(device)"
   ]
  },
  {
   "cell_type": "code",
   "execution_count": 4,
   "metadata": {
    "collapsed": false
   },
   "outputs": [],
   "source": [
    "# 加载数据\n",
    "from torch.utils.data import DataLoader, TensorDataset\n",
    "\n",
    "train_dataset = TensorDataset(x_train, y_train)\n",
    "train_loader = DataLoader(train_dataset, batch_size=BATCH_SIZE, shuffle=True)\n",
    "\n",
    "test_dataset = TensorDataset(x_test, y_test)\n",
    "test_loader = DataLoader(test_dataset, batch_size=BATCH_SIZE, shuffle=True)"
   ]
  },
  {
   "cell_type": "code",
   "execution_count": 5,
   "metadata": {
    "collapsed": false
   },
   "outputs": [],
   "source": [
    "# 定义网络\n",
    "import torch.nn as nn\n",
    "\n",
    "\n",
    "class Net(nn.Module):\n",
    "    def __init__(self):\n",
    "        super(Net, self).__init__()\n",
    "        self.hidden = nn.Linear(FEATURE_DIM, FEATURE_DIM)\n",
    "        self.out = nn.Linear(FEATURE_DIM, N_CLASSES)\n",
    "\n",
    "    def forward(self, x):\n",
    "        x = torch.sigmoid(self.hidden(x))\n",
    "        x = self.out(x)\n",
    "        return x\n",
    "\n",
    "\n",
    "net = Net().to(device)\n",
    "\n",
    "# 定义损失函数、优化器\n",
    "import torch.optim as optim\n",
    "\n",
    "criterion = nn.CrossEntropyLoss()\n",
    "optimizer = optim.Adam(net.parameters(),\n",
    "                       lr=0.001,\n",
    "                       betas=(0.9, 0.999),\n",
    "                       eps=1e-08,\n",
    "                       weight_decay=0,\n",
    "                       amsgrad=False)"
   ]
  },
  {
   "cell_type": "code",
   "execution_count": 6,
   "metadata": {
    "collapsed": false
   },
   "outputs": [
    {
     "name": "stdout",
     "output_type": "stream",
     "text": [
      "epoch 0 loss: 0.3291572724\n",
      "epoch 10 loss: 0.0647634281\n",
      "epoch 20 loss: 0.0449954403\n",
      "epoch 30 loss: 0.0303180392\n",
      "epoch 40 loss: 0.0258456737\n",
      "epoch 50 loss: 0.0245770348\n",
      "epoch 60 loss: 0.0239587211\n",
      "epoch 70 loss: 0.0176149821\n",
      "epoch 80 loss: 0.0132854770\n",
      "epoch 90 loss: 0.0139324281\n",
      "epoch 100 loss: 0.0151357625\n",
      "epoch 110 loss: 0.0118461758\n",
      "epoch 120 loss: 0.0116393077\n",
      "epoch 130 loss: 0.0082939467\n",
      "epoch 140 loss: 0.0100089271\n",
      "epoch 150 loss: 0.0094873867\n",
      "epoch 160 loss: 0.0089448032\n",
      "epoch 170 loss: 0.0066554623\n",
      "epoch 180 loss: 0.0059360032\n",
      "epoch 190 loss: 0.0066568274\n",
      "epoch 200 loss: 0.0060255331\n",
      "epoch 210 loss: 0.0056815776\n",
      "epoch 220 loss: 0.0095185431\n",
      "epoch 230 loss: 0.0050715698\n",
      "epoch 240 loss: 0.0032584682\n",
      "epoch 250 loss: 0.0080648881\n",
      "epoch 260 loss: 0.0049500790\n",
      "epoch 270 loss: 0.0043488823\n",
      "epoch 280 loss: 0.0045837761\n",
      "epoch 290 loss: 0.0040580846\n",
      "epoch 300 loss: 0.0042817925\n",
      "epoch 310 loss: 0.0029149554\n",
      "epoch 320 loss: 0.0036762658\n",
      "epoch 330 loss: 0.0039788055\n",
      "epoch 340 loss: 0.0034219510\n",
      "epoch 350 loss: 0.0026548866\n",
      "epoch 360 loss: 0.0037736671\n",
      "epoch 370 loss: 0.0030855704\n",
      "epoch 380 loss: 0.0041787221\n",
      "epoch 390 loss: 0.0025845481\n",
      "epoch 400 loss: 0.0043001783\n",
      "epoch 410 loss: 0.0034748537\n",
      "epoch 420 loss: 0.0033900939\n",
      "epoch 430 loss: 0.0026445266\n",
      "epoch 440 loss: 0.0044146946\n",
      "epoch 450 loss: 0.0022137471\n",
      "epoch 460 loss: 0.0016503553\n",
      "epoch 470 loss: 0.0012993246\n",
      "epoch 480 loss: 0.0033643055\n",
      "epoch 490 loss: 0.0028168179\n",
      "epoch 500 loss: 0.0029000582\n",
      "epoch 510 loss: 0.0023392192\n",
      "epoch 520 loss: 0.0020245725\n",
      "epoch 530 loss: 0.0028552202\n",
      "epoch 540 loss: 0.0033420806\n",
      "epoch 550 loss: 0.0031386022\n",
      "epoch 560 loss: 0.0029464926\n",
      "epoch 570 loss: 0.0024303708\n",
      "epoch 580 loss: 0.0023938893\n",
      "epoch 590 loss: 0.0014607964\n",
      "epoch 600 loss: 0.0011270077\n",
      "epoch 610 loss: 0.0018127386\n",
      "epoch 620 loss: 0.0014332131\n",
      "epoch 630 loss: 0.0019951223\n",
      "epoch 640 loss: 0.0025331259\n",
      "epoch 650 loss: 0.0021232248\n",
      "epoch 660 loss: 0.0017455384\n",
      "epoch 670 loss: 0.0015862811\n",
      "epoch 680 loss: 0.0018048039\n",
      "epoch 690 loss: 0.0012717838\n",
      "epoch 700 loss: 0.0010140054\n",
      "epoch 710 loss: 0.0007432869\n",
      "epoch 720 loss: 0.0011916312\n",
      "epoch 730 loss: 0.0009389866\n",
      "epoch 740 loss: 0.0008811128\n",
      "epoch 750 loss: 0.0009861903\n",
      "epoch 760 loss: 0.0014739034\n",
      "epoch 770 loss: 0.0016984627\n",
      "epoch 780 loss: 0.0017308624\n",
      "epoch 790 loss: 0.0006878438\n",
      "epoch 800 loss: 0.0008317715\n",
      "epoch 810 loss: 0.0019625594\n",
      "epoch 820 loss: 0.0009086827\n",
      "epoch 830 loss: 0.0007450359\n",
      "epoch 840 loss: 0.0009812271\n",
      "epoch 850 loss: 0.0012822541\n",
      "epoch 860 loss: 0.0004198042\n",
      "epoch 870 loss: 0.0009840586\n",
      "epoch 880 loss: 0.0006356792\n",
      "epoch 890 loss: 0.0014790243\n",
      "epoch 900 loss: 0.0005932676\n",
      "epoch 910 loss: 0.0021813904\n",
      "epoch 920 loss: 0.0009520856\n",
      "epoch 930 loss: 0.0009902627\n",
      "epoch 940 loss: 0.0016948841\n",
      "epoch 950 loss: 0.0008403276\n",
      "epoch 960 loss: 0.0007696679\n",
      "epoch 970 loss: 0.0006744899\n",
      "epoch 980 loss: 0.0005031819\n",
      "epoch 990 loss: 0.0008635118\n",
      "Finished Training\n"
     ]
    }
   ],
   "source": [
    "# 训练网络\n",
    "for epoch in range(1000):  # 数字越大，循环次数越多\n",
    "    running_loss = 0.0\n",
    "    for i, data in enumerate(train_loader, 0):\n",
    "        # get the inputs; data is a list of [inputs, labels]\n",
    "        inputs, labels = data\n",
    "\n",
    "        # zero the parameter gradients\n",
    "        optimizer.zero_grad()\n",
    "\n",
    "        # forward + backward + optimize\n",
    "        outputs = net(inputs)\n",
    "        loss = criterion(outputs, labels)\n",
    "        loss.backward()\n",
    "        optimizer.step()\n",
    "\n",
    "        # print statistics\n",
    "        running_loss += loss.item()\n",
    "\n",
    "    if epoch % 10 == 0:\n",
    "        print(f'epoch {epoch} loss: {running_loss / 1500:.10f}')\n",
    "        running_loss = 0.0\n",
    "\n",
    "print('Finished Training')\n",
    "\n",
    "# 训练结束后保存网络参数\n",
    "PATH = './model.pth'\n",
    "torch.save(net.state_dict(), PATH)"
   ]
  },
  {
   "cell_type": "code",
   "execution_count": 7,
   "metadata": {
    "collapsed": false
   },
   "outputs": [
    {
     "name": "stdout",
     "output_type": "stream",
     "text": [
      "Accuracy: 0.9713333333333334\n"
     ]
    }
   ],
   "source": [
    "# 测试模型\n",
    "net = Net().to(device)\n",
    "net.load_state_dict(torch.load(PATH))\n",
    "\n",
    "correct = 0\n",
    "total = 0\n",
    "# since we're not training, we don't need to calculate the gradients for our outputs\n",
    "with torch.no_grad():\n",
    "    # noinspection PyShadowingBuiltins\n",
    "    for input, labels in test_loader:\n",
    "        # calculate outputs by running images through the network\n",
    "        outputs = net(input)\n",
    "        # the class with the highest energy is what we choose as prediction\n",
    "        _, predicted = torch.max(outputs.data, 1)\n",
    "        total += labels.size(0)\n",
    "        # noinspection PyUnresolvedReferences\n",
    "        correct += (predicted == labels).sum().item()\n",
    "\n",
    "print(f'Accuracy: {correct / total}')"
   ]
  }
 ],
 "metadata": {
  "kernelspec": {
   "display_name": "baseclone",
   "language": "python",
   "name": "python3"
  },
  "language_info": {
   "codemirror_mode": {
    "name": "ipython",
    "version": 3
   },
   "file_extension": ".py",
   "mimetype": "text/x-python",
   "name": "python",
   "nbconvert_exporter": "python",
   "pygments_lexer": "ipython3",
   "version": "3.9.15 (main, Nov  4 2022, 16:35:55) [MSC v.1916 64 bit (AMD64)]"
  },
  "vscode": {
   "interpreter": {
    "hash": "b4494550fd2c455d12025b7cfce3597d9eb74249dc2acea6a9c1fae47f4abe40"
   }
  }
 },
 "nbformat": 4,
 "nbformat_minor": 0
}
