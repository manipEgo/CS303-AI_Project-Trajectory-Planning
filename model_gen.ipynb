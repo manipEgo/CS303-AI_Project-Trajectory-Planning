{
 "cells": [
  {
   "cell_type": "code",
   "execution_count": 21,
   "metadata": {
    "collapsed": true
   },
   "outputs": [
    {
     "name": "stdout",
     "output_type": "stream",
     "text": [
      "device: cuda\n"
     ]
    }
   ],
   "source": [
    "import torch.cuda\n",
    "\n",
    "from src import  N_CLASSES, FEATURE_DIM\n",
    "\n",
    "BATCH_SIZE = 32\n",
    "device = \"cuda\" if torch.cuda.is_available() else \"cpu\"\n",
    "print(f'device: {device}')"
   ]
  },
  {
   "cell_type": "code",
   "execution_count": 22,
   "outputs": [],
   "source": [
    "# 读数据\n",
    "data = torch.load(\"data.pth\")\n",
    "feature = data['feature']\n",
    "label = data['label']"
   ],
   "metadata": {
    "collapsed": false
   }
  },
  {
   "cell_type": "code",
   "execution_count": 23,
   "outputs": [],
   "source": [
    "# 生成训练集、测试集\n",
    "from sklearn.model_selection import train_test_split\n",
    "\n",
    "x_train, x_test, y_train, y_test = train_test_split(feature, label, test_size=0.2, train_size=0.8, random_state=0)\n",
    "x_train, x_test, y_train, y_test = x_train.to(device), x_test.to(device), y_train.to(device), y_test.to(device)"
   ],
   "metadata": {
    "collapsed": false
   }
  },
  {
   "cell_type": "code",
   "execution_count": 24,
   "outputs": [],
   "source": [
    "# 加载数据\n",
    "from torch.utils.data import DataLoader, TensorDataset\n",
    "\n",
    "train_dataset = TensorDataset(x_train, y_train)\n",
    "train_loader = DataLoader(train_dataset, batch_size=BATCH_SIZE, shuffle=True)\n",
    "\n",
    "test_dataset = TensorDataset(x_test, y_test)\n",
    "test_loader = DataLoader(test_dataset, batch_size=BATCH_SIZE, shuffle=True)"
   ],
   "metadata": {
    "collapsed": false
   }
  },
  {
   "cell_type": "code",
   "execution_count": 25,
   "outputs": [],
   "source": [
    "# 定义网络\n",
    "import torch.nn as nn\n",
    "\n",
    "\n",
    "class Net(nn.Module):\n",
    "    def __init__(self):\n",
    "        super(Net, self).__init__()\n",
    "        self.hidden = nn.Linear(FEATURE_DIM, FEATURE_DIM)\n",
    "        self.out = nn.Linear(FEATURE_DIM, N_CLASSES)\n",
    "\n",
    "    def forward(self, x):\n",
    "        x = torch.sigmoid(self.hidden(x))\n",
    "        x = self.out(x)\n",
    "        return x\n",
    "\n",
    "\n",
    "net = Net().to(device)\n",
    "\n",
    "# 定义损失函数、优化器\n",
    "import torch.optim as optim\n",
    "\n",
    "criterion = nn.CrossEntropyLoss()\n",
    "optimizer = optim.Adam(net.parameters(),\n",
    "                       lr=0.001,\n",
    "                       betas=(0.9, 0.999),\n",
    "                       eps=1e-08,\n",
    "                       weight_decay=0,\n",
    "                       amsgrad=False)"
   ],
   "metadata": {
    "collapsed": false
   }
  },
  {
   "cell_type": "code",
   "execution_count": 26,
   "outputs": [
    {
     "name": "stdout",
     "output_type": "stream",
     "text": [
      "epoch 0 loss: 0.3258636626\n",
      "epoch 10 loss: 0.0608343219\n",
      "epoch 20 loss: 0.0425836477\n",
      "epoch 30 loss: 0.0330095728\n",
      "epoch 40 loss: 0.0237424968\n",
      "epoch 50 loss: 0.0259919976\n",
      "epoch 60 loss: 0.0217680709\n",
      "epoch 70 loss: 0.0170985210\n",
      "epoch 80 loss: 0.0164280826\n",
      "epoch 90 loss: 0.0138399982\n",
      "epoch 100 loss: 0.0115069504\n",
      "epoch 110 loss: 0.0121777140\n",
      "epoch 120 loss: 0.0108990255\n",
      "epoch 130 loss: 0.0086292719\n",
      "epoch 140 loss: 0.0091509145\n",
      "epoch 150 loss: 0.0098033523\n",
      "epoch 160 loss: 0.0086454757\n",
      "epoch 170 loss: 0.0099069467\n",
      "epoch 180 loss: 0.0071303178\n",
      "epoch 190 loss: 0.0074142918\n",
      "epoch 200 loss: 0.0068652923\n",
      "epoch 210 loss: 0.0069613622\n",
      "epoch 220 loss: 0.0057754395\n",
      "epoch 230 loss: 0.0053508078\n",
      "epoch 240 loss: 0.0064230067\n",
      "epoch 250 loss: 0.0059882675\n",
      "epoch 260 loss: 0.0057689595\n",
      "epoch 270 loss: 0.0042897727\n",
      "epoch 280 loss: 0.0050572434\n",
      "epoch 290 loss: 0.0048364249\n",
      "epoch 300 loss: 0.0036989648\n",
      "epoch 310 loss: 0.0046856451\n",
      "epoch 320 loss: 0.0064290294\n",
      "epoch 330 loss: 0.0031721070\n",
      "epoch 340 loss: 0.0040999898\n",
      "epoch 350 loss: 0.0050770199\n",
      "epoch 360 loss: 0.0061888960\n",
      "epoch 370 loss: 0.0050746319\n",
      "epoch 380 loss: 0.0042459116\n",
      "epoch 390 loss: 0.0047504204\n",
      "epoch 400 loss: 0.0024512647\n",
      "epoch 410 loss: 0.0029010808\n",
      "epoch 420 loss: 0.0026175788\n",
      "epoch 430 loss: 0.0043064599\n",
      "epoch 440 loss: 0.0043072661\n",
      "epoch 450 loss: 0.0027864727\n",
      "epoch 460 loss: 0.0041357023\n",
      "epoch 470 loss: 0.0024302420\n",
      "epoch 480 loss: 0.0038743691\n",
      "epoch 490 loss: 0.0027209921\n",
      "epoch 500 loss: 0.0014113978\n",
      "epoch 510 loss: 0.0024959878\n",
      "epoch 520 loss: 0.0024130620\n",
      "epoch 530 loss: 0.0032861151\n",
      "epoch 540 loss: 0.0013620344\n",
      "epoch 550 loss: 0.0027335575\n",
      "epoch 560 loss: 0.0022631659\n",
      "epoch 570 loss: 0.0011678391\n",
      "epoch 580 loss: 0.0020339053\n",
      "epoch 590 loss: 0.0014376215\n",
      "epoch 600 loss: 0.0029676278\n",
      "epoch 610 loss: 0.0012452417\n",
      "epoch 620 loss: 0.0030994072\n",
      "epoch 630 loss: 0.0017651570\n",
      "epoch 640 loss: 0.0021022802\n",
      "epoch 650 loss: 0.0022997281\n",
      "epoch 660 loss: 0.0021226568\n",
      "epoch 670 loss: 0.0022487336\n",
      "epoch 680 loss: 0.0022338574\n",
      "epoch 690 loss: 0.0030804804\n",
      "epoch 700 loss: 0.0024705331\n",
      "epoch 710 loss: 0.0010932380\n",
      "epoch 720 loss: 0.0030406297\n",
      "epoch 730 loss: 0.0010946234\n",
      "epoch 740 loss: 0.0020043427\n",
      "epoch 750 loss: 0.0013723653\n",
      "epoch 760 loss: 0.0006835007\n",
      "epoch 770 loss: 0.0024096400\n",
      "epoch 780 loss: 0.0009953043\n",
      "epoch 790 loss: 0.0011097484\n",
      "epoch 800 loss: 0.0016696004\n",
      "epoch 810 loss: 0.0010775709\n",
      "epoch 820 loss: 0.0008854757\n",
      "epoch 830 loss: 0.0017816700\n",
      "epoch 840 loss: 0.0010578107\n",
      "epoch 850 loss: 0.0015732488\n",
      "epoch 860 loss: 0.0013862846\n",
      "epoch 870 loss: 0.0006893070\n",
      "epoch 880 loss: 0.0011070825\n",
      "epoch 890 loss: 0.0008189836\n",
      "epoch 900 loss: 0.0008467688\n",
      "epoch 910 loss: 0.0008968083\n",
      "epoch 920 loss: 0.0011443191\n",
      "epoch 930 loss: 0.0008625802\n",
      "epoch 940 loss: 0.0011435278\n",
      "epoch 950 loss: 0.0003692472\n",
      "epoch 960 loss: 0.0009858585\n",
      "epoch 970 loss: 0.0008248973\n",
      "epoch 980 loss: 0.0009842706\n",
      "epoch 990 loss: 0.0006904829\n",
      "Finished Training\n"
     ]
    }
   ],
   "source": [
    "# 训练网络\n",
    "for epoch in range(1000):  # 数字越大，循环次数越多\n",
    "    running_loss = 0.0\n",
    "    for i, data in enumerate(train_loader, 0):\n",
    "        # get the inputs; data is a list of [inputs, labels]\n",
    "        inputs, labels = data\n",
    "\n",
    "        # zero the parameter gradients\n",
    "        optimizer.zero_grad()\n",
    "\n",
    "        # forward + backward + optimize\n",
    "        outputs = net(inputs)\n",
    "        loss = criterion(outputs, labels)\n",
    "        loss.backward()\n",
    "        optimizer.step()\n",
    "\n",
    "        # print statistics\n",
    "        running_loss += loss.item()\n",
    "\n",
    "    if epoch % 10 == 0:\n",
    "        print(f'epoch {epoch} loss: {running_loss / 1500:.10f}')\n",
    "        running_loss = 0.0\n",
    "\n",
    "print('Finished Training')\n",
    "\n",
    "# 训练结束后保存网络参数\n",
    "PATH = './model.pth'\n",
    "torch.save(net.state_dict(), PATH)"
   ],
   "metadata": {
    "collapsed": false
   }
  },
  {
   "cell_type": "code",
   "execution_count": 32,
   "outputs": [
    {
     "name": "stdout",
     "output_type": "stream",
     "text": [
      "Accuracy: 0.9728333333333333\n"
     ]
    }
   ],
   "source": [
    "# 测试模型\n",
    "net = Net().to(device)\n",
    "net.load_state_dict(torch.load(PATH))\n",
    "\n",
    "correct = 0\n",
    "total = 0\n",
    "# since we're not training, we don't need to calculate the gradients for our outputs\n",
    "with torch.no_grad():\n",
    "    # noinspection PyShadowingBuiltins\n",
    "    for input, labels in test_loader:\n",
    "        # calculate outputs by running images through the network\n",
    "        outputs = net(input)\n",
    "        # the class with the highest energy is what we choose as prediction\n",
    "        _, predicted = torch.max(outputs.data, 1)\n",
    "        total += labels.size(0)\n",
    "        # noinspection PyUnresolvedReferences\n",
    "        correct += (predicted == labels).sum().item()\n",
    "\n",
    "print(f'Accuracy: {correct / total}')"
   ],
   "metadata": {
    "collapsed": false
   }
  }
 ],
 "metadata": {
  "kernelspec": {
   "display_name": "Python 3",
   "language": "python",
   "name": "python3"
  },
  "language_info": {
   "codemirror_mode": {
    "name": "ipython",
    "version": 2
   },
   "file_extension": ".py",
   "mimetype": "text/x-python",
   "name": "python",
   "nbconvert_exporter": "python",
   "pygments_lexer": "ipython2",
   "version": "2.7.6"
  }
 },
 "nbformat": 4,
 "nbformat_minor": 0
}
