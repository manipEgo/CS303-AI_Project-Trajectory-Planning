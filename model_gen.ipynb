{
 "cells": [
  {
   "cell_type": "code",
   "execution_count": 16,
   "metadata": {
    "collapsed": true
   },
   "outputs": [
    {
     "name": "stdout",
     "output_type": "stream",
     "text": [
      "device: cpu\n"
     ]
    }
   ],
   "source": [
    "import torch.cuda\n",
    "\n",
    "from src import  N_CLASSES, FEATURE_DIM\n",
    "\n",
    "BATCH_SIZE = 32\n",
    "device = \"cuda\" if torch.cuda.is_available() else \"cpu\"\n",
    "print(f'device: {device}')"
   ]
  },
  {
   "cell_type": "code",
   "execution_count": 17,
   "metadata": {
    "collapsed": false
   },
   "outputs": [],
   "source": [
    "# 读数据\n",
    "data = torch.load(\"data.pth\")\n",
    "feature = data['feature']\n",
    "label = data['label']"
   ]
  },
  {
   "cell_type": "code",
   "execution_count": 18,
   "metadata": {
    "collapsed": false
   },
   "outputs": [],
   "source": [
    "# 生成训练集、测试集\n",
    "from sklearn.model_selection import train_test_split\n",
    "\n",
    "x_train, x_test, y_train, y_test = train_test_split(feature, label, test_size=0.2, train_size=0.8, random_state=0)\n",
    "x_train, x_test, y_train, y_test = x_train.to(device), x_test.to(device), y_train.to(device), y_test.to(device)"
   ]
  },
  {
   "cell_type": "code",
   "execution_count": 19,
   "metadata": {
    "collapsed": false
   },
   "outputs": [],
   "source": [
    "# 加载数据\n",
    "from torch.utils.data import DataLoader, TensorDataset\n",
    "\n",
    "train_dataset = TensorDataset(x_train, y_train)\n",
    "train_loader = DataLoader(train_dataset, batch_size=BATCH_SIZE, shuffle=True)\n",
    "\n",
    "test_dataset = TensorDataset(x_test, y_test)\n",
    "test_loader = DataLoader(test_dataset, batch_size=BATCH_SIZE, shuffle=True)"
   ]
  },
  {
   "cell_type": "code",
   "execution_count": 20,
   "metadata": {
    "collapsed": false
   },
   "outputs": [],
   "source": [
    "# 定义网络\n",
    "from model import Net\n",
    "import torch.nn as nn\n",
    "\n",
    "net = Net().to(device)\n",
    "\n",
    "# 定义损失函数、优化器\n",
    "import torch.optim as optim\n",
    "\n",
    "criterion = nn.CrossEntropyLoss()\n",
    "optimizer = optim.Adam(net.parameters(),\n",
    "                       lr=0.0001,\n",
    "                       betas=(0.9, 0.999),\n",
    "                       eps=1e-08,\n",
    "                       weight_decay=0,\n",
    "                       amsgrad=False)"
   ]
  },
  {
   "cell_type": "code",
   "execution_count": 21,
   "metadata": {
    "collapsed": false
   },
   "outputs": [
    {
     "name": "stdout",
     "output_type": "stream",
     "text": [
      "epoch 0 loss: 0.7381000892\n",
      "epoch 10 loss: 0.0784555322\n",
      "epoch 20 loss: 0.0427763426\n",
      "epoch 30 loss: 0.0298936598\n",
      "epoch 40 loss: 0.0219812782\n",
      "epoch 50 loss: 0.0185304847\n",
      "epoch 60 loss: 0.0161231087\n",
      "epoch 70 loss: 0.0135821077\n",
      "epoch 80 loss: 0.0129703612\n",
      "epoch 90 loss: 0.0111898305\n",
      "epoch 100 loss: 0.0111980851\n",
      "epoch 110 loss: 0.0093882697\n",
      "epoch 120 loss: 0.0110214647\n",
      "epoch 130 loss: 0.0090873142\n",
      "epoch 140 loss: 0.0097399946\n",
      "epoch 150 loss: 0.0090545689\n",
      "epoch 160 loss: 0.0069340025\n",
      "epoch 170 loss: 0.0091755603\n",
      "epoch 180 loss: 0.0067685667\n",
      "epoch 190 loss: 0.0068712495\n",
      "epoch 200 loss: 0.0068794337\n",
      "epoch 210 loss: 0.0074095086\n",
      "epoch 220 loss: 0.0049696714\n",
      "epoch 230 loss: 0.0068145098\n",
      "epoch 240 loss: 0.0065242344\n",
      "epoch 250 loss: 0.0058775752\n",
      "epoch 260 loss: 0.0069919232\n",
      "epoch 270 loss: 0.0063808572\n",
      "epoch 280 loss: 0.0054384340\n",
      "epoch 290 loss: 0.0054437259\n",
      "epoch 300 loss: 0.0044803196\n",
      "epoch 310 loss: 0.0046767764\n",
      "epoch 320 loss: 0.0048795001\n",
      "epoch 330 loss: 0.0052208376\n",
      "epoch 340 loss: 0.0048750340\n",
      "epoch 350 loss: 0.0048650342\n",
      "epoch 360 loss: 0.0041588506\n",
      "epoch 370 loss: 0.0038010783\n",
      "epoch 380 loss: 0.0049577221\n",
      "epoch 390 loss: 0.0048423833\n",
      "epoch 400 loss: 0.0041452763\n",
      "epoch 410 loss: 0.0046994432\n",
      "epoch 420 loss: 0.0037613317\n",
      "epoch 430 loss: 0.0040828159\n",
      "epoch 440 loss: 0.0037275185\n",
      "epoch 450 loss: 0.0040017307\n",
      "epoch 460 loss: 0.0033960704\n",
      "epoch 470 loss: 0.0035609558\n",
      "epoch 480 loss: 0.0030690596\n",
      "epoch 490 loss: 0.0040057704\n",
      "epoch 500 loss: 0.0032237812\n",
      "epoch 510 loss: 0.0042824884\n",
      "epoch 520 loss: 0.0024945880\n",
      "epoch 530 loss: 0.0034883527\n",
      "epoch 540 loss: 0.0033568047\n",
      "epoch 550 loss: 0.0029253783\n",
      "epoch 560 loss: 0.0026256615\n",
      "epoch 570 loss: 0.0029331055\n",
      "epoch 580 loss: 0.0027690075\n",
      "epoch 590 loss: 0.0040065987\n",
      "epoch 600 loss: 0.0030390087\n",
      "epoch 610 loss: 0.0034921540\n",
      "epoch 620 loss: 0.0026659553\n",
      "epoch 630 loss: 0.0034385159\n",
      "epoch 640 loss: 0.0023585867\n",
      "epoch 650 loss: 0.0033879705\n",
      "epoch 660 loss: 0.0026488268\n",
      "epoch 670 loss: 0.0030162421\n",
      "epoch 680 loss: 0.0032548363\n",
      "epoch 690 loss: 0.0036143538\n",
      "epoch 700 loss: 0.0033929172\n",
      "epoch 710 loss: 0.0030997354\n",
      "epoch 720 loss: 0.0026031414\n",
      "epoch 730 loss: 0.0031998856\n",
      "epoch 740 loss: 0.0020068368\n",
      "epoch 750 loss: 0.0031605342\n",
      "epoch 760 loss: 0.0021462422\n",
      "epoch 770 loss: 0.0025310810\n",
      "epoch 780 loss: 0.0026239118\n",
      "epoch 790 loss: 0.0023194896\n",
      "epoch 800 loss: 0.0031002984\n",
      "epoch 810 loss: 0.0023710850\n",
      "epoch 820 loss: 0.0028766819\n",
      "epoch 830 loss: 0.0022789390\n",
      "epoch 840 loss: 0.0024624128\n",
      "epoch 850 loss: 0.0021988305\n",
      "epoch 860 loss: 0.0025800298\n",
      "epoch 870 loss: 0.0019718823\n",
      "epoch 880 loss: 0.0020395945\n",
      "epoch 890 loss: 0.0024221668\n",
      "epoch 900 loss: 0.0026135672\n",
      "epoch 910 loss: 0.0023301077\n",
      "epoch 920 loss: 0.0022886704\n",
      "epoch 930 loss: 0.0024614352\n",
      "epoch 940 loss: 0.0022118182\n",
      "epoch 950 loss: 0.0027228304\n",
      "epoch 960 loss: 0.0024152253\n",
      "epoch 970 loss: 0.0026640528\n",
      "epoch 980 loss: 0.0021171754\n",
      "epoch 990 loss: 0.0030836148\n",
      "Finished Training\n"
     ]
    }
   ],
   "source": [
    "# 训练网络\n",
    "for epoch in range(1000):  # 数字越大，循环次数越多\n",
    "    running_loss = 0.0\n",
    "    for i, data in enumerate(train_loader, 0):\n",
    "        # get the inputs; data is a list of [inputs, labels]\n",
    "        inputs, labels = data\n",
    "\n",
    "        # zero the parameter gradients\n",
    "        optimizer.zero_grad()\n",
    "\n",
    "        # forward + backward + optimize\n",
    "        outputs = net(inputs)\n",
    "        loss = criterion(outputs, labels)\n",
    "        loss.backward()\n",
    "        optimizer.step()\n",
    "\n",
    "        # print statistics\n",
    "        running_loss += loss.item()\n",
    "\n",
    "    if epoch % 10 == 0:\n",
    "        print(f'epoch {epoch} loss: {running_loss / 1500:.10f}')\n",
    "        running_loss = 0.0\n",
    "\n",
    "print('Finished Training')\n",
    "\n",
    "# 训练结束后保存网络参数\n",
    "PATH = './model.pth'\n",
    "torch.save(net.state_dict(), PATH)"
   ]
  },
  {
   "cell_type": "code",
   "execution_count": 22,
   "metadata": {
    "collapsed": false
   },
   "outputs": [
    {
     "name": "stdout",
     "output_type": "stream",
     "text": [
      "Accuracy: 0.9734166666666667\n"
     ]
    }
   ],
   "source": [
    "# 测试模型\n",
    "net = Net().to(device)\n",
    "net.load_state_dict(torch.load(PATH))\n",
    "\n",
    "correct = 0\n",
    "total = 0\n",
    "# since we're not training, we don't need to calculate the gradients for our outputs\n",
    "with torch.no_grad():\n",
    "    # noinspection PyShadowingBuiltins\n",
    "    for input, labels in test_loader:\n",
    "        # calculate outputs by running images through the network\n",
    "        outputs = net(input)\n",
    "        # the class with the highest energy is what we choose as prediction\n",
    "        _, predicted = torch.max(outputs.data, 1)\n",
    "        total += labels.size(0)\n",
    "        # noinspection PyUnresolvedReferences\n",
    "        correct += (predicted == labels).sum().item()\n",
    "\n",
    "print(f'Accuracy: {correct / total}')"
   ]
  }
 ],
 "metadata": {
  "kernelspec": {
   "display_name": "baseclone",
   "language": "python",
   "name": "python3"
  },
  "language_info": {
   "codemirror_mode": {
    "name": "ipython",
    "version": 3
   },
   "file_extension": ".py",
   "mimetype": "text/x-python",
   "name": "python",
   "nbconvert_exporter": "python",
   "pygments_lexer": "ipython3",
   "version": "3.9.15"
  },
  "vscode": {
   "interpreter": {
    "hash": "b4494550fd2c455d12025b7cfce3597d9eb74249dc2acea6a9c1fae47f4abe40"
   }
  }
 },
 "nbformat": 4,
 "nbformat_minor": 0
}
