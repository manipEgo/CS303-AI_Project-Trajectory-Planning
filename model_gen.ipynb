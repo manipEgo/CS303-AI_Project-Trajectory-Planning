{
 "cells": [
  {
   "cell_type": "code",
   "execution_count": 1,
   "metadata": {
    "collapsed": true
   },
   "outputs": [
    {
     "name": "stdout",
     "output_type": "stream",
     "text": [
      "device: cpu\n"
     ]
    }
   ],
   "source": [
    "import torch.cuda\n",
    "\n",
    "from src import  N_CLASSES, FEATURE_DIM\n",
    "\n",
    "BATCH_SIZE = 32\n",
    "device = \"cuda\" if torch.cuda.is_available() else \"cpu\"\n",
    "print(f'device: {device}')"
   ]
  },
  {
   "cell_type": "code",
   "execution_count": 2,
   "metadata": {
    "collapsed": false
   },
   "outputs": [],
   "source": [
    "# 读数据\n",
    "data = torch.load(\"data.pth\")\n",
    "feature = data['feature']\n",
    "label = data['label']"
   ]
  },
  {
   "cell_type": "code",
   "execution_count": 3,
   "metadata": {
    "collapsed": false
   },
   "outputs": [],
   "source": [
    "# 生成训练集、测试集\n",
    "from sklearn.model_selection import train_test_split\n",
    "\n",
    "# x_train, x_test, y_train, y_test = train_test_split(feature, label, test_size=0.2, train_size=0.8, random_state=0)\n",
    "# x_train, x_test, y_train, y_test = x_train.to(device), x_test.to(device), y_train.to(device), y_test.to(device)\n",
    "x_train = feature.to(device)\n",
    "y_train = label.to(device)"
   ]
  },
  {
   "cell_type": "code",
   "execution_count": 4,
   "metadata": {
    "collapsed": false
   },
   "outputs": [],
   "source": [
    "# 加载数据\n",
    "from torch.utils.data import DataLoader, TensorDataset\n",
    "\n",
    "train_dataset = TensorDataset(x_train, y_train)\n",
    "train_loader = DataLoader(train_dataset, batch_size=BATCH_SIZE, shuffle=True)\n",
    "\n",
    "# test_dataset = TensorDataset(x_test, y_test)\n",
    "# test_loader = DataLoader(test_dataset, batch_size=BATCH_SIZE, shuffle=True)"
   ]
  },
  {
   "cell_type": "code",
   "execution_count": 5,
   "metadata": {
    "collapsed": false
   },
   "outputs": [],
   "source": [
    "# 定义网络\n",
    "from model import Net\n",
    "import torch.nn as nn\n",
    "\n",
    "net = Net().to(device)\n",
    "\n",
    "# 定义损失函数、优化器\n",
    "import torch.optim as optim\n",
    "\n",
    "criterion = nn.CrossEntropyLoss()\n",
    "optimizer = optim.Adam(net.parameters(),\n",
    "                       lr=0.0005,\n",
    "                       betas=(0.9, 0.999),\n",
    "                       eps=1e-08,\n",
    "                       weight_decay=0,\n",
    "                       amsgrad=False)"
   ]
  },
  {
   "cell_type": "code",
   "execution_count": 6,
   "metadata": {
    "collapsed": false
   },
   "outputs": [
    {
     "name": "stdout",
     "output_type": "stream",
     "text": [
      "epoch 0 loss: 0.4780592679\n",
      "epoch 10 loss: 0.0776317313\n",
      "epoch 20 loss: 0.0500846855\n",
      "epoch 30 loss: 0.0394945701\n",
      "epoch 40 loss: 0.0288851603\n",
      "epoch 50 loss: 0.0276010668\n",
      "epoch 60 loss: 0.0229669614\n",
      "epoch 70 loss: 0.0186456444\n",
      "epoch 80 loss: 0.0184432390\n",
      "epoch 90 loss: 0.0155899879\n",
      "epoch 100 loss: 0.0156943521\n",
      "epoch 110 loss: 0.0143125583\n",
      "epoch 120 loss: 0.0122162846\n",
      "epoch 130 loss: 0.0120155831\n",
      "epoch 140 loss: 0.0106495676\n",
      "epoch 150 loss: 0.0123110038\n",
      "epoch 160 loss: 0.0119060605\n",
      "epoch 170 loss: 0.0092616656\n",
      "epoch 180 loss: 0.0095954233\n",
      "epoch 190 loss: 0.0099982194\n",
      "epoch 200 loss: 0.0085050230\n",
      "epoch 210 loss: 0.0084994676\n",
      "epoch 220 loss: 0.0084203183\n",
      "epoch 230 loss: 0.0092053216\n",
      "epoch 240 loss: 0.0079403041\n",
      "epoch 250 loss: 0.0061410896\n",
      "epoch 260 loss: 0.0076607621\n",
      "epoch 270 loss: 0.0069279098\n",
      "epoch 280 loss: 0.0068134812\n",
      "epoch 290 loss: 0.0063051897\n",
      "epoch 300 loss: 0.0082232788\n",
      "epoch 310 loss: 0.0058198387\n",
      "epoch 320 loss: 0.0054563015\n",
      "epoch 330 loss: 0.0056804747\n",
      "epoch 340 loss: 0.0067682953\n",
      "epoch 350 loss: 0.0054300093\n",
      "epoch 360 loss: 0.0062742833\n",
      "epoch 370 loss: 0.0065318891\n",
      "epoch 380 loss: 0.0057180891\n",
      "epoch 390 loss: 0.0054401709\n",
      "epoch 400 loss: 0.0046029961\n",
      "epoch 410 loss: 0.0047740790\n",
      "epoch 420 loss: 0.0056117936\n",
      "epoch 430 loss: 0.0042718926\n",
      "epoch 440 loss: 0.0049892764\n",
      "epoch 450 loss: 0.0038743089\n",
      "epoch 460 loss: 0.0053415565\n",
      "epoch 470 loss: 0.0045890138\n",
      "epoch 480 loss: 0.0049684156\n",
      "epoch 490 loss: 0.0036770133\n",
      "epoch 500 loss: 0.0046181556\n",
      "epoch 510 loss: 0.0039006940\n",
      "epoch 520 loss: 0.0046503318\n",
      "epoch 530 loss: 0.0042568304\n",
      "epoch 540 loss: 0.0054336097\n",
      "epoch 550 loss: 0.0049274286\n",
      "epoch 560 loss: 0.0039964836\n",
      "epoch 570 loss: 0.0037477664\n",
      "epoch 580 loss: 0.0035198659\n",
      "epoch 590 loss: 0.0043066496\n",
      "Finished Training\n"
     ]
    }
   ],
   "source": [
    "# 训练网络\n",
    "for epoch in range(600):  # 数字越大，循环次数越多\n",
    "    running_loss = 0.0\n",
    "    for i, data in enumerate(train_loader, 0):\n",
    "        # get the inputs; data is a list of [inputs, labels]\n",
    "        inputs, labels = data\n",
    "\n",
    "        # zero the parameter gradients\n",
    "        optimizer.zero_grad()\n",
    "\n",
    "        # forward + backward + optimize\n",
    "        outputs = net(inputs)\n",
    "        loss = criterion(outputs, labels)\n",
    "        loss.backward()\n",
    "        optimizer.step()\n",
    "\n",
    "        # print statistics\n",
    "        running_loss += loss.item()\n",
    "\n",
    "    if epoch % 10 == 0:\n",
    "        print(f'epoch {epoch} loss: {running_loss / 1500:.10f}')\n",
    "        running_loss = 0.0\n",
    "\n",
    "print('Finished Training')\n",
    "\n",
    "# 训练结束后保存网络参数\n",
    "PATH = './model.pth'\n",
    "torch.save(net.state_dict(), PATH)"
   ]
  },
  {
   "cell_type": "code",
   "execution_count": null,
   "metadata": {
    "collapsed": false
   },
   "outputs": [],
   "source": [
    "# 测试模型\n",
    "net = Net().to(device)\n",
    "net.load_state_dict(torch.load(PATH))\n",
    "\n",
    "correct = 0\n",
    "total = 0\n",
    "# since we're not training, we don't need to calculate the gradients for our outputs\n",
    "with torch.no_grad():\n",
    "    # noinspection PyShadowingBuiltins\n",
    "    for input, labels in test_loader:\n",
    "        # calculate outputs by running images through the network\n",
    "        outputs = net(input)\n",
    "        # the class with the highest energy is what we choose as prediction\n",
    "        _, predicted = torch.max(outputs.data, 1)\n",
    "        total += labels.size(0)\n",
    "        # noinspection PyUnresolvedReferences\n",
    "        correct += (predicted == labels).sum().item()\n",
    "\n",
    "print(f'Accuracy: {correct / total}')"
   ]
  }
 ],
 "metadata": {
  "kernelspec": {
   "display_name": "baseclone",
   "language": "python",
   "name": "python3"
  },
  "language_info": {
   "codemirror_mode": {
    "name": "ipython",
    "version": 3
   },
   "file_extension": ".py",
   "mimetype": "text/x-python",
   "name": "python",
   "nbconvert_exporter": "python",
   "pygments_lexer": "ipython3",
   "version": "3.9.15"
  },
  "vscode": {
   "interpreter": {
    "hash": "b4494550fd2c455d12025b7cfce3597d9eb74249dc2acea6a9c1fae47f4abe40"
   }
  }
 },
 "nbformat": 4,
 "nbformat_minor": 0
}
