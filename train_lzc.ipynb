{
 "cells": [
  {
   "cell_type": "code",
   "execution_count": 12,
   "metadata": {
    "ExecuteTime": {
     "end_time": "2022-12-15T10:38:04.968811Z",
     "start_time": "2022-12-15T10:38:03.491471Z"
    }
   },
   "outputs": [],
   "source": [
    "import torch\n",
    "import numpy as np\n",
    "from sklearn.model_selection import train_test_split\n",
    "import torch.nn as nn\n",
    "from torch.utils.data import DataLoader\n",
    "from torch.utils.data import random_split\n",
    "import torch.utils.data as Data\n",
    "import matplotlib.pyplot as plt"
   ]
  },
  {
   "cell_type": "code",
   "execution_count": 13,
   "metadata": {
    "ExecuteTime": {
     "end_time": "2022-12-15T10:38:05.000840Z",
     "start_time": "2022-12-15T10:38:04.969812Z"
    }
   },
   "outputs": [],
   "source": [
    "data = torch.load('data.pth')\n",
    "data = Data.TensorDataset(data['feature'], data['label'])\n",
    "train_set, test_set = random_split(data, [int(50000), int(10000)])"
   ]
  },
  {
   "cell_type": "code",
   "execution_count": 14,
   "metadata": {
    "ExecuteTime": {
     "end_time": "2022-12-15T10:38:05.016855Z",
     "start_time": "2022-12-15T10:38:05.001840Z"
    }
   },
   "outputs": [],
   "source": [
    "batch_size = 128\n",
    "train_loader = DataLoader(train_set, batch_size, shuffle=True)\n",
    "test_loader = DataLoader(test_set, batch_size, shuffle=False)"
   ]
  },
  {
   "cell_type": "markdown",
   "metadata": {},
   "source": [
    "feature为60000个含有256个特征的向量，label为60000个标签（10）"
   ]
  },
  {
   "cell_type": "code",
   "execution_count": 15,
   "metadata": {
    "ExecuteTime": {
     "end_time": "2022-12-15T10:38:05.032869Z",
     "start_time": "2022-12-15T10:38:05.018856Z"
    }
   },
   "outputs": [],
   "source": [
    "class MLP(nn.Module):\n",
    "    def __init__(self):\n",
    "        super().__init__()\n",
    "        self.model = nn.Sequential(\n",
    "            nn.Linear(256, 256),\n",
    "            nn.ReLU(),\n",
    "            nn.BatchNorm1d(256),\n",
    "            nn.Linear(256, 128),\n",
    "            nn.ReLU(),\n",
    "            nn.BatchNorm1d(128),\n",
    "            nn.Linear(128, 10)\n",
    "        )\n",
    "    \n",
    "    def forward(self, x):\n",
    "        return self.model(x)"
   ]
  },
  {
   "cell_type": "code",
   "execution_count": 16,
   "metadata": {
    "ExecuteTime": {
     "end_time": "2022-12-15T10:55:50.596607Z",
     "start_time": "2022-12-15T10:55:50.590602Z"
    }
   },
   "outputs": [
    {
     "data": {
      "text/plain": [
       "'cpu'"
      ]
     },
     "execution_count": 16,
     "metadata": {},
     "output_type": "execute_result"
    }
   ],
   "source": [
    "device = \"cuda\" if torch.cuda.is_available() else \"cpu\"\n",
    "device"
   ]
  },
  {
   "cell_type": "code",
   "execution_count": 17,
   "metadata": {},
   "outputs": [],
   "source": [
    "import torch.utils.cpp_extension\n",
    "\n",
    "torch.utils.cpp_extension.CUDA_HOME "
   ]
  },
  {
   "cell_type": "code",
   "execution_count": 18,
   "metadata": {},
   "outputs": [
    {
     "name": "stdout",
     "output_type": "stream",
     "text": [
      "1.13.0\n"
     ]
    }
   ],
   "source": [
    "print(torch.__version__)"
   ]
  },
  {
   "cell_type": "code",
   "execution_count": 19,
   "metadata": {
    "ExecuteTime": {
     "end_time": "2022-12-15T10:38:05.415216Z",
     "start_time": "2022-12-15T10:38:05.049884Z"
    }
   },
   "outputs": [],
   "source": [
    "mlp = MLP().to(device)\n",
    "lossfn = nn.CrossEntropyLoss().to(device)\n",
    "optimizer = torch.optim.Adam(mlp.parameters(), lr=1e-5)"
   ]
  },
  {
   "cell_type": "code",
   "execution_count": 20,
   "metadata": {
    "ExecuteTime": {
     "end_time": "2022-12-15T10:38:05.416216Z",
     "start_time": "2022-12-15T10:38:05.416216Z"
    }
   },
   "outputs": [
    {
     "data": {
      "text/plain": [
       "'1.13.0'"
      ]
     },
     "execution_count": 20,
     "metadata": {},
     "output_type": "execute_result"
    }
   ],
   "source": [
    "torch.__version__"
   ]
  },
  {
   "cell_type": "code",
   "execution_count": 21,
   "metadata": {
    "ExecuteTime": {
     "end_time": "2022-12-15T10:38:05.417217Z",
     "start_time": "2022-12-15T10:38:05.417217Z"
    }
   },
   "outputs": [
    {
     "name": "stdout",
     "output_type": "stream",
     "text": [
      "None\n"
     ]
    }
   ],
   "source": [
    "print(torch.version.cuda)"
   ]
  },
  {
   "cell_type": "code",
   "execution_count": 22,
   "metadata": {
    "ExecuteTime": {
     "end_time": "2022-12-15T10:38:05.418218Z",
     "start_time": "2022-12-15T10:38:05.418218Z"
    }
   },
   "outputs": [
    {
     "name": "stdout",
     "output_type": "stream",
     "text": [
      "epoch 0: 0.67642\n",
      "epoch 25: 0.95669\n",
      "epoch 50: 0.96796\n",
      "epoch 75: 0.97172\n",
      "epoch 100: 0.97389\n",
      "epoch 125: 0.97369\n",
      "epoch 150: 0.9735\n",
      "epoch 175: 0.97449\n",
      "epoch 200: 0.97389\n",
      "epoch 225: 0.97419\n",
      "epoch 250: 0.97488\n",
      "epoch 275: 0.97538\n",
      "epoch 300: 0.97379\n",
      "epoch 325: 0.97528\n",
      "epoch 350: 0.97468\n",
      "epoch 375: 0.97498\n",
      "epoch 400: 0.97518\n",
      "epoch 425: 0.97528\n",
      "epoch 450: 0.97488\n",
      "epoch 475: 0.97488\n",
      "epoch 500: 0.97656\n",
      "epoch 525: 0.97567\n",
      "epoch 550: 0.97587\n",
      "epoch 575: 0.97627\n",
      "epoch 600: 0.97577\n",
      "epoch 625: 0.97636\n",
      "epoch 650: 0.97567\n",
      "epoch 675: 0.97597\n",
      "epoch 700: 0.97538\n",
      "epoch 725: 0.97627\n",
      "epoch 750: 0.97577\n",
      "epoch 775: 0.97676\n",
      "epoch 800: 0.97706\n",
      "epoch 825: 0.97636\n",
      "epoch 850: 0.97567\n",
      "epoch 875: 0.97755\n",
      "epoch 900: 0.97518\n",
      "epoch 925: 0.97666\n",
      "epoch 950: 0.97666\n",
      "epoch 975: 0.97518\n"
     ]
    }
   ],
   "source": [
    "epoch = 1000\n",
    "\n",
    "all_train_losses = np.zeros(epoch)\n",
    "all_test_acc = np.zeros(epoch)\n",
    "best = None\n",
    "best_acc = 0.0\n",
    "for i in range(epoch):\n",
    "    mlp.train(True)\n",
    "    train_losses = []\n",
    "    for input, target in train_loader:\n",
    "        input, target = input.to(device), target.to(device)\n",
    "        optimizer.zero_grad()\n",
    "        out = mlp(input)\n",
    "        loss = lossfn(out, target)\n",
    "        loss.backward()\n",
    "        optimizer.step()\n",
    "        train_losses.append(loss.item())\n",
    "    train_loss = np.mean(train_losses)\n",
    "    mlp.train(False)\n",
    "    test_acc = []\n",
    "    for inputs, targets in test_loader:\n",
    "        inputs, targets = inputs.to(device, dtype=torch.float), targets.to(device, dtype=torch.int64)      \n",
    "        outputs = mlp(inputs)\n",
    "        idx = torch.argmax(outputs, dim=1)\n",
    "        correct = (idx == targets).sum().item()\n",
    "        n = targets.shape[0]\n",
    "        test_acc.append(correct/n)\n",
    "    acc = np.mean(test_acc)\n",
    "    all_train_losses[i] = train_loss\n",
    "    all_test_acc[i] = acc\n",
    "    if i % 25 == 0:\n",
    "        print(\"epoch \" + str(i) + \": \" + str(round(acc, 5)))\n",
    "    if acc > best_acc:\n",
    "        best_acc = acc\n",
    "        best = mlp.state_dict()\n",
    "\n"
   ]
  },
  {
   "cell_type": "code",
   "execution_count": 23,
   "metadata": {},
   "outputs": [
    {
     "name": "stdout",
     "output_type": "stream",
     "text": [
      "0.9776503164556962\n"
     ]
    }
   ],
   "source": [
    "torch.save(best, 'model.pth')\n",
    "print(best_acc)"
   ]
  },
  {
   "cell_type": "code",
   "execution_count": 24,
   "metadata": {
    "ExecuteTime": {
     "end_time": "2022-12-15T10:38:05.419219Z",
     "start_time": "2022-12-15T10:38:05.419219Z"
    }
   },
   "outputs": [
    {
     "data": {
      "text/plain": [
       "<matplotlib.legend.Legend at 0x2ae353c7400>"
      ]
     },
     "execution_count": 24,
     "metadata": {},
     "output_type": "execute_result"
    },
    {
     "data": {
      "image/png": "[encoded data removed]",
      "text/plain": [
       "<Figure size 1500x600 with 1 Axes>"
      ]
     },
     "metadata": {},
     "output_type": "display_data"
    }
   ],
   "source": [
    "plt.figure(figsize=(15,6))\n",
    "plt.plot(all_train_losses, label='train loss')\n",
    "plt.plot(all_test_acc, label='accuracy')\n",
    "\n",
    "plt.legend()"
   ]
  },
  {
   "cell_type": "code",
   "execution_count": 25,
   "metadata": {
    "ExecuteTime": {
     "end_time": "2022-12-15T10:38:05.420220Z",
     "start_time": "2022-12-15T10:38:05.420220Z"
    }
   },
   "outputs": [
    {
     "data": {
      "text/plain": [
       "<matplotlib.legend.Legend at 0x2ae354a6610>"
      ]
     },
     "execution_count": 25,
     "metadata": {},
     "output_type": "execute_result"
    },
    {
     "data": {
      "image/png": "[encoded data removed]",
      "text/plain": [
       "<Figure size 1500x600 with 1 Axes>"
      ]
     },
     "metadata": {},
     "output_type": "display_data"
    }
   ],
   "source": [
    "plt.figure(figsize=(15,6))\n",
    "plt.plot(all_test_acc, label='accuracy')\n",
    "\n",
    "plt.legend()"
   ]
  },
  {
   "cell_type": "code",
   "execution_count": 26,
   "metadata": {
    "ExecuteTime": {
     "end_time": "2022-12-15T10:38:05.421221Z",
     "start_time": "2022-12-15T10:38:05.421221Z"
    }
   },
   "outputs": [
    {
     "name": "stdout",
     "output_type": "stream",
     "text": [
      "0.9764\n"
     ]
    }
   ],
   "source": [
    "correct = 0\n",
    "n = 0\n",
    "\n",
    "for input, target in test_loader:\n",
    "    input, target = input.to(device), target.to(device)\n",
    "    out = mlp(input)\n",
    "    idx = torch.argmax(out, dim=1)\n",
    "    correct += (idx == target).sum().item()\n",
    "    n += target.shape[0]\n",
    "\n",
    "acc = correct/n\n",
    "print(acc)"
   ]
  }
 ],
 "metadata": {
  "kernelspec": {
   "display_name": "baseclone",
   "language": "python",
   "name": "python3"
  },
  "language_info": {
   "codemirror_mode": {
    "name": "ipython",
    "version": 3
   },
   "file_extension": ".py",
   "mimetype": "text/x-python",
   "name": "python",
   "nbconvert_exporter": "python",
   "pygments_lexer": "ipython3",
   "version": "3.9.15"
  },
  "vscode": {
   "interpreter": {
    "hash": "b4494550fd2c455d12025b7cfce3597d9eb74249dc2acea6a9c1fae47f4abe40"
   }
  }
 },
 "nbformat": 4,
 "nbformat_minor": 2
}
